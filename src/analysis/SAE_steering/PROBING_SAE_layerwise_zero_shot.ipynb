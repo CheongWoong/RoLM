{
 "cells": [
  {
   "cell_type": "code",
   "execution_count": 1,
   "metadata": {},
   "outputs": [],
   "source": [
    "import os\n",
    "import json\n",
    "import jsonlines\n",
    "\n",
    "from itertools import combinations\n",
    "from collections import defaultdict, Counter\n",
    "import numpy as np\n",
    "from sklearn.linear_model import LogisticRegression\n",
    "from sklearn.model_selection import train_test_split\n",
    "from sklearn.preprocessing import StandardScaler\n",
    "from sklearn.metrics import accuracy_score, balanced_accuracy_score, classification_report, confusion_matrix\n",
    "from scipy.spatial import distance"
   ]
  },
  {
   "cell_type": "code",
   "execution_count": 2,
   "metadata": {},
   "outputs": [],
   "source": [
    "def read_memmap(filepath):\n",
    "    with open(filepath.replace(\".dat\", \".conf\"), \"r\") as fin_config:\n",
    "        memmap_configs = json.load(fin_config)\n",
    "        return np.memmap(filepath, mode=\"r\", shape=tuple(memmap_configs[\"shape\"]), dtype=memmap_configs[\"dtype\"])"
   ]
  },
  {
   "cell_type": "code",
   "execution_count": 3,
   "metadata": {},
   "outputs": [],
   "source": [
    "NUM_FORMATS = 8"
   ]
  },
  {
   "cell_type": "code",
   "execution_count": 4,
   "metadata": {},
   "outputs": [],
   "source": [
    "result_dir = \"../../../results\"\n",
    "input_dir = \"../../../preprocessed_datasets\""
   ]
  },
  {
   "cell_type": "code",
   "execution_count": 5,
   "metadata": {},
   "outputs": [],
   "source": [
    "model_name = \"Llama-3.1-8B-Instruct\"\n",
    "dataset_name = \"CommonsenseQA\"\n",
    "prompting_strategy = \"zero-shot\"\n",
    "\n",
    "id_predictions_map = {}\n",
    "\n",
    "output_dir = f\"{result_dir}/{dataset_name}/{model_name}\"\n",
    "\n",
    "predictions_path = os.path.join(output_dir, f\"{prompting_strategy}_predictions_validation.jsonl\")\n",
    "try:\n",
    "    with jsonlines.open(predictions_path) as fin:\n",
    "        id_predictions_map = {}\n",
    "        for example in fin.iter():\n",
    "            id_predictions_map[example[\"id\"]] = example[\"predictions\"]\n",
    "except:\n",
    "    pass\n",
    "\n",
    "labels = []\n",
    "for preds in id_predictions_map.values():\n",
    "    pairwise_labels = []\n",
    "    for i, j in list(combinations(range(8), 2)):\n",
    "        label = int(preds[str(i)] == preds[str(j)])\n",
    "        pairwise_labels.append(label)\n",
    "    labels.append(pairwise_labels)\n",
    "labels = np.array(labels)\n"
   ]
  },
  {
   "cell_type": "code",
   "execution_count": 6,
   "metadata": {},
   "outputs": [],
   "source": [
    "def expand_pairwise_embeddings(hidden_states):\n",
    "    num_samples = hidden_states.shape[0]\n",
    "\n",
    "    pairwise_embeddings = []\n",
    "\n",
    "    for s in range(num_samples):\n",
    "        sample_pairs = []\n",
    "        for i, j in list(combinations(range(8), 2)):\n",
    "            emb_i = hidden_states[s, i]\n",
    "            emb_j = hidden_states[s, j]\n",
    "            concat = np.concatenate([emb_i, emb_j], axis=-1)\n",
    "            sample_pairs.append(concat)\n",
    "        sample_pairs = np.stack(sample_pairs, axis=0)\n",
    "        pairwise_embeddings.append(sample_pairs)\n",
    "\n",
    "    return np.stack(pairwise_embeddings, axis=0)"
   ]
  },
  {
   "cell_type": "code",
   "execution_count": 7,
   "metadata": {},
   "outputs": [],
   "source": [
    "layer_wise_path = os.path.join(output_dir, f\"{prompting_strategy}_layer_wise_sae_hidden_states_validation.dat\")\n",
    "# head_wise_path = os.path.join(output_dir, f\"{prompting_strategy}_head_wise_hidden_states_validation.dat\")\n",
    "\n",
    "layer_wise_hidden_states = read_memmap(layer_wise_path)\n",
    "# head_wise_hidden_states = read_memmap(head_wise_path)\n",
    "\n",
    "pairwise_layer_wise_hidden_states = expand_pairwise_embeddings(layer_wise_hidden_states)\n",
    "# pairwise_head_wise_hidden_states = expand_pairwise_embeddings(head_wise_hidden_states)"
   ]
  },
  {
   "cell_type": "code",
   "execution_count": 8,
   "metadata": {},
   "outputs": [
    {
     "data": {
      "text/plain": [
       "((244, 8, 32, 32768), (244, 28, 32, 65536))"
      ]
     },
     "execution_count": 8,
     "metadata": {},
     "output_type": "execute_result"
    }
   ],
   "source": [
    "layer_wise_hidden_states.shape, pairwise_layer_wise_hidden_states.shape"
   ]
  },
  {
   "cell_type": "markdown",
   "metadata": {},
   "source": [
    "## Computing Steering Direction"
   ]
  },
  {
   "cell_type": "code",
   "execution_count": 12,
   "metadata": {},
   "outputs": [],
   "source": [
    "z = []\n",
    "for id, predictions in id_predictions_map.items():\n",
    "    if \"majority_voting\" in predictions:\n",
    "        predictions.pop(\"majority_voting\")\n",
    "    zz = []\n",
    "    for ii in range(NUM_FORMATS):\n",
    "        zzz = list(predictions.values()).count(predictions[str(ii)])\n",
    "        zzz = ((zzz>4)*1.0)\n",
    "        zz.append(zzz)\n",
    "    z.append(zz)\n",
    "majority_minority_array = np.array(z)"
   ]
  },
  {
   "cell_type": "code",
   "execution_count": 31,
   "metadata": {},
   "outputs": [],
   "source": [
    "# def extract_embeddings_by_class(embeddings, majority_minority_array):\n",
    "#     N, F, L, H, D = embeddings.shape\n",
    "\n",
    "#     flat_embeddings = embeddings.reshape(N * F, L, H, D)\n",
    "#     flat_labels = majority_minority_array.reshape(N * F)\n",
    "\n",
    "#     positive_embeddings = flat_embeddings[flat_labels > 0.5]\n",
    "#     negative_embeddings = flat_embeddings[flat_labels < 0.5]\n",
    "\n",
    "#     return positive_embeddings, negative_embeddings\n",
    "\n",
    "def extract_embeddings_by_class(embeddings, majority_minority_array):\n",
    "    N, F, D = embeddings.shape\n",
    "\n",
    "    selection_idx = np.logical_and(majority_minority_array.mean(1) < 1, majority_minority_array.mean(1) > 0)\n",
    "    selected_embeddings = embeddings[selection_idx]\n",
    "    selected_labels = majority_minority_array[selection_idx]\n",
    "\n",
    "    # (1) without balancing\n",
    "    selected_N = int(selection_idx.sum())\n",
    "    flat_embeddings = selected_embeddings.reshape(selected_N * F, D)\n",
    "    flat_labels = selected_labels.reshape(selected_N * F)\n",
    "    positive_embeddings = flat_embeddings[flat_labels > 0.5]\n",
    "    negative_embeddings = flat_embeddings[flat_labels < 0.5]\n",
    "\n",
    "    # (2) balancing\n",
    "    # pos_weight = selected_labels/((selected_labels.sum(1))[...,np.newaxis])\n",
    "    # neg_weight = (1-selected_labels)/(((1-selected_labels).sum(1))[...,np.newaxis])\n",
    "    # positive_embeddings = (selected_embeddings*pos_weight[...,np.newaxis,np.newaxis,np.newaxis]).sum(1)\n",
    "    # negative_embeddings = (selected_embeddings*neg_weight[...,np.newaxis,np.newaxis,np.newaxis]).sum(1)\n",
    "\n",
    "    return positive_embeddings, negative_embeddings"
   ]
  },
  {
   "cell_type": "code",
   "execution_count": 32,
   "metadata": {},
   "outputs": [
    {
     "data": {
      "text/plain": [
       "(244, 8, 32, 32768)"
      ]
     },
     "execution_count": 32,
     "metadata": {},
     "output_type": "execute_result"
    }
   ],
   "source": [
    "layer_wise_hidden_states.shape"
   ]
  },
  {
   "cell_type": "code",
   "execution_count": 86,
   "metadata": {},
   "outputs": [],
   "source": [
    "pos, neg = extract_embeddings_by_class(layer_wise_hidden_states[:,:,0,:], majority_minority_array)\n",
    "steering_direction = pos.mean(0) - neg.mean(0)\n",
    "\n",
    "steering_direction_path = os.path.join(output_dir, f\"{prompting_strategy}_SAE_steering_direction.npy\")\n",
    "np.save(steering_direction_path, steering_direction)"
   ]
  },
  {
   "cell_type": "code",
   "execution_count": 88,
   "metadata": {},
   "outputs": [
    {
     "data": {
      "text/plain": [
       "(array([ 1404,  2133,  3052,  3553, 10055, 10494, 12286, 13744, 15820,\n",
       "        18457, 19999, 21820, 26148, 26675]),)"
      ]
     },
     "execution_count": 88,
     "metadata": {},
     "output_type": "execute_result"
    }
   ],
   "source": [
    "np.nonzero(pos.mean(0))"
   ]
  },
  {
   "cell_type": "code",
   "execution_count": 97,
   "metadata": {},
   "outputs": [
    {
     "data": {
      "text/plain": [
       "(0.852, 0.844)"
      ]
     },
     "execution_count": 97,
     "metadata": {},
     "output_type": "execute_result"
    }
   ],
   "source": [
    "idx = 13744\n",
    "pos.mean(0)[idx], neg.mean(0)[idx]"
   ]
  },
  {
   "cell_type": "code",
   "execution_count": 100,
   "metadata": {},
   "outputs": [
    {
     "name": "stdout",
     "output_type": "stream",
     "text": [
      "1404 \t 0.01563\n",
      "2133 \t 0.02313\n",
      "3052 \t -0.21\n",
      "3553 \t 0.02333\n",
      "10055 \t -0.005127\n",
      "10494 \t -0.219\n",
      "12286 \t -0.04297\n",
      "13744 \t 0.007812\n",
      "15820 \t -0.0332\n",
      "16486 \t -0.0694\n",
      "18457 \t 0.04678\n",
      "19999 \t 0.001953\n",
      "21820 \t 0.001953\n",
      "26148 \t 0.03027\n"
     ]
    }
   ],
   "source": [
    "for idx in np.nonzero(steering_direction)[0]:\n",
    "    print (idx, '\\t', steering_direction[idx])\n"
   ]
  },
  {
   "cell_type": "code",
   "execution_count": 37,
   "metadata": {},
   "outputs": [],
   "source": [
    "result = pos[:, None, :] - neg[None, :, :]"
   ]
  },
  {
   "cell_type": "code",
   "execution_count": 77,
   "metadata": {},
   "outputs": [],
   "source": [
    "flattened = result.reshape(-1, result.shape[-1])  # shape: [78*26, 32768]"
   ]
  },
  {
   "cell_type": "code",
   "execution_count": 80,
   "metadata": {},
   "outputs": [
    {
     "name": "stdout",
     "output_type": "stream",
     "text": [
      "1404 -0.0625\n",
      "3052 -2.171875\n",
      "12286 -0.40625\n",
      "13744 -2.0625\n",
      "15820 -0.53125\n",
      "19999 -0.03125\n",
      "21820 -0.140625\n"
     ]
    }
   ],
   "source": [
    "for Z in flattened:\n",
    "    nonzero_idx = np.nonzero(Z)[0]  # or np.where(Z != 0)[0]\n",
    "    fired = np.stack((nonzero_idx, Z[nonzero_idx]), axis=1)\n",
    "    for k, v in fired:\n",
    "        print(int(k), v)\n",
    "    break"
   ]
  },
  {
   "cell_type": "code",
   "execution_count": 81,
   "metadata": {},
   "outputs": [],
   "source": [
    "z = result.mean(0).mean(0)"
   ]
  },
  {
   "cell_type": "code",
   "execution_count": 82,
   "metadata": {},
   "outputs": [],
   "source": [
    "fired = []\n",
    "for zidx, zz in enumerate(z):\n",
    "    if zz > 0 or zz < 0:\n",
    "        fired.append([zidx, zz])\n",
    "fired = np.array(fired)"
   ]
  },
  {
   "cell_type": "code",
   "execution_count": 83,
   "metadata": {},
   "outputs": [
    {
     "name": "stdout",
     "output_type": "stream",
     "text": [
      "1404 \t 0.015838623046875\n",
      "2133 \t 0.02313232421875\n",
      "3052 \t -0.2109375\n",
      "3553 \t 0.0233306884765625\n",
      "10055 \t -0.005107879638671875\n",
      "10494 \t -0.2188720703125\n",
      "12286 \t -0.045257568359375\n",
      "13744 \t 0.0078125\n",
      "15820 \t -0.035064697265625\n",
      "16486 \t -0.06939697265625\n",
      "18457 \t 0.046783447265625\n",
      "19999 \t 0.0003952980041503906\n",
      "21820 \t 0.0018167495727539062\n",
      "26148 \t 0.030120849609375\n",
      "26675 \t -3.2842159271240234e-05\n"
     ]
    }
   ],
   "source": [
    "for idx, value in fired:\n",
    "    print(int(idx), \"\\t\", value)"
   ]
  },
  {
   "cell_type": "code",
   "execution_count": null,
   "metadata": {},
   "outputs": [],
   "source": [
    "fired = []\n",
    "for zidx, zz in enumerate(z):\n",
    "    if zz > 0 or zz < 0:\n",
    "        fired.append([zidx, zz])\n",
    "fired = np.array(fired)"
   ]
  },
  {
   "cell_type": "code",
   "execution_count": 56,
   "metadata": {},
   "outputs": [
    {
     "data": {
      "text/plain": [
       "(32768,)"
      ]
     },
     "execution_count": 56,
     "metadata": {},
     "output_type": "execute_result"
    }
   ],
   "source": [
    "z.shape"
   ]
  },
  {
   "cell_type": "code",
   "execution_count": 60,
   "metadata": {},
   "outputs": [
    {
     "data": {
      "text/plain": [
       "array([ 0.8125,  3.656 , 15.19  , 32.12  , 47.06  , 47.2   , 61.12  ,\n",
       "       94.75  ], dtype=float16)"
      ]
     },
     "execution_count": 60,
     "metadata": {},
     "output_type": "execute_result"
    }
   ],
   "source": [
    "zidx = np.argsort(z)\n",
    "z[zidx[32760:]]"
   ]
  }
 ],
 "metadata": {
  "kernelspec": {
   "display_name": "RoLM",
   "language": "python",
   "name": "python3"
  },
  "language_info": {
   "codemirror_mode": {
    "name": "ipython",
    "version": 3
   },
   "file_extension": ".py",
   "mimetype": "text/x-python",
   "name": "python",
   "nbconvert_exporter": "python",
   "pygments_lexer": "ipython3",
   "version": "3.10.16"
  }
 },
 "nbformat": 4,
 "nbformat_minor": 2
}
