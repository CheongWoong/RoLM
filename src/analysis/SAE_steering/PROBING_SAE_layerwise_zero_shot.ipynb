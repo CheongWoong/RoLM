{
 "cells": [
  {
   "cell_type": "code",
   "execution_count": 1,
   "metadata": {},
   "outputs": [],
   "source": [
    "import os\n",
    "import json\n",
    "import jsonlines\n",
    "\n",
    "from itertools import combinations\n",
    "from collections import defaultdict, Counter\n",
    "import numpy as np\n",
    "from sklearn.linear_model import LogisticRegression\n",
    "from sklearn.model_selection import train_test_split\n",
    "from sklearn.preprocessing import StandardScaler\n",
    "from sklearn.metrics import accuracy_score, balanced_accuracy_score, classification_report, confusion_matrix\n",
    "from scipy.spatial import distance"
   ]
  },
  {
   "cell_type": "code",
   "execution_count": 2,
   "metadata": {},
   "outputs": [],
   "source": [
    "def read_memmap(filepath):\n",
    "    with open(filepath.replace(\".dat\", \".conf\"), \"r\") as fin_config:\n",
    "        memmap_configs = json.load(fin_config)\n",
    "        return np.memmap(filepath, mode=\"r\", shape=tuple(memmap_configs[\"shape\"]), dtype=memmap_configs[\"dtype\"])"
   ]
  },
  {
   "cell_type": "code",
   "execution_count": 3,
   "metadata": {},
   "outputs": [],
   "source": [
    "NUM_FORMATS = 8"
   ]
  },
  {
   "cell_type": "code",
   "execution_count": 4,
   "metadata": {},
   "outputs": [],
   "source": [
    "result_dir = \"../../../results\"\n",
    "input_dir = \"../../../preprocessed_datasets\""
   ]
  },
  {
   "cell_type": "code",
   "execution_count": 5,
   "metadata": {},
   "outputs": [],
   "source": [
    "model_name = \"Llama-3.1-8B-Instruct\"\n",
    "dataset_name = \"CommonsenseQA\"\n",
    "prompting_strategy = \"zero-shot\"\n",
    "\n",
    "id_predictions_map = {}\n",
    "\n",
    "output_dir = f\"{result_dir}/{dataset_name}/{model_name}\"\n",
    "\n",
    "predictions_path = os.path.join(output_dir, f\"{prompting_strategy}_predictions_validation.jsonl\")\n",
    "try:\n",
    "    with jsonlines.open(predictions_path) as fin:\n",
    "        id_predictions_map = {}\n",
    "        for example in fin.iter():\n",
    "            id_predictions_map[example[\"id\"]] = example[\"predictions\"]\n",
    "except:\n",
    "    pass\n",
    "\n",
    "labels = []\n",
    "for preds in id_predictions_map.values():\n",
    "    pairwise_labels = []\n",
    "    for i, j in list(combinations(range(8), 2)):\n",
    "        label = int(preds[str(i)] == preds[str(j)])\n",
    "        pairwise_labels.append(label)\n",
    "    labels.append(pairwise_labels)\n",
    "labels = np.array(labels)\n"
   ]
  },
  {
   "cell_type": "code",
   "execution_count": 6,
   "metadata": {},
   "outputs": [],
   "source": [
    "def expand_pairwise_embeddings(hidden_states):\n",
    "    num_samples = hidden_states.shape[0]\n",
    "\n",
    "    pairwise_embeddings = []\n",
    "\n",
    "    for s in range(num_samples):\n",
    "        sample_pairs = []\n",
    "        for i, j in list(combinations(range(8), 2)):\n",
    "            emb_i = hidden_states[s, i]\n",
    "            emb_j = hidden_states[s, j]\n",
    "            concat = np.concatenate([emb_i, emb_j], axis=-1)\n",
    "            sample_pairs.append(concat)\n",
    "        sample_pairs = np.stack(sample_pairs, axis=0)\n",
    "        pairwise_embeddings.append(sample_pairs)\n",
    "\n",
    "    return np.stack(pairwise_embeddings, axis=0)"
   ]
  },
  {
   "cell_type": "code",
   "execution_count": 7,
   "metadata": {},
   "outputs": [],
   "source": [
    "layer_wise_path = os.path.join(output_dir, f\"{prompting_strategy}_layer_wise_sae_hidden_states_validation.dat\")\n",
    "# head_wise_path = os.path.join(output_dir, f\"{prompting_strategy}_head_wise_hidden_states_validation.dat\")\n",
    "\n",
    "layer_wise_hidden_states = read_memmap(layer_wise_path)\n",
    "# head_wise_hidden_states = read_memmap(head_wise_path)\n",
    "\n",
    "# pairwise_layer_wise_hidden_states = expand_pairwise_embeddings(layer_wise_hidden_states)\n",
    "# pairwise_head_wise_hidden_states = expand_pairwise_embeddings(head_wise_hidden_states)"
   ]
  },
  {
   "cell_type": "code",
   "execution_count": 8,
   "metadata": {},
   "outputs": [
    {
     "data": {
      "text/plain": [
       "(244, 8, 32, 32768)"
      ]
     },
     "execution_count": 8,
     "metadata": {},
     "output_type": "execute_result"
    }
   ],
   "source": [
    "layer_wise_hidden_states.shape#, pairwise_layer_wise_hidden_states.shape"
   ]
  },
  {
   "cell_type": "markdown",
   "metadata": {},
   "source": [
    "## Computing Steering Direction"
   ]
  },
  {
   "cell_type": "code",
   "execution_count": 9,
   "metadata": {},
   "outputs": [],
   "source": [
    "z = []\n",
    "for id, predictions in id_predictions_map.items():\n",
    "    if \"majority_voting\" in predictions:\n",
    "        predictions.pop(\"majority_voting\")\n",
    "    zz = []\n",
    "    for ii in range(NUM_FORMATS):\n",
    "        zzz = list(predictions.values()).count(predictions[str(ii)])\n",
    "        zzz = ((zzz>4)*1.0)\n",
    "        zz.append(zzz)\n",
    "    z.append(zz)\n",
    "majority_minority_array = np.array(z)"
   ]
  },
  {
   "cell_type": "code",
   "execution_count": 10,
   "metadata": {},
   "outputs": [],
   "source": [
    "# def extract_embeddings_by_class(embeddings, majority_minority_array):\n",
    "#     N, F, L, H, D = embeddings.shape\n",
    "\n",
    "#     flat_embeddings = embeddings.reshape(N * F, L, H, D)\n",
    "#     flat_labels = majority_minority_array.reshape(N * F)\n",
    "\n",
    "#     positive_embeddings = flat_embeddings[flat_labels > 0.5]\n",
    "#     negative_embeddings = flat_embeddings[flat_labels < 0.5]\n",
    "\n",
    "#     return positive_embeddings, negative_embeddings\n",
    "\n",
    "def extract_embeddings_by_class(embeddings, majority_minority_array):\n",
    "    N, F, D = embeddings.shape\n",
    "\n",
    "    selection_idx = np.logical_and(majority_minority_array.mean(1) < 1, majority_minority_array.mean(1) > 0)\n",
    "    selected_embeddings = embeddings[selection_idx]\n",
    "    selected_labels = majority_minority_array[selection_idx]\n",
    "\n",
    "    # (1) without balancing\n",
    "    selected_N = int(selection_idx.sum())\n",
    "    flat_embeddings = selected_embeddings.reshape(selected_N * F, D)\n",
    "    flat_labels = selected_labels.reshape(selected_N * F)\n",
    "    positive_embeddings = flat_embeddings[flat_labels > 0.5]\n",
    "    negative_embeddings = flat_embeddings[flat_labels < 0.5]\n",
    "\n",
    "    # (2) balancing\n",
    "    # pos_weight = selected_labels/((selected_labels.sum(1))[...,np.newaxis])\n",
    "    # neg_weight = (1-selected_labels)/(((1-selected_labels).sum(1))[...,np.newaxis])\n",
    "    # positive_embeddings = (selected_embeddings*pos_weight[...,np.newaxis,np.newaxis,np.newaxis]).sum(1)\n",
    "    # negative_embeddings = (selected_embeddings*neg_weight[...,np.newaxis,np.newaxis,np.newaxis]).sum(1)\n",
    "\n",
    "    return positive_embeddings, negative_embeddings"
   ]
  },
  {
   "cell_type": "code",
   "execution_count": 11,
   "metadata": {},
   "outputs": [
    {
     "data": {
      "text/plain": [
       "(244, 8, 32, 32768)"
      ]
     },
     "execution_count": 11,
     "metadata": {},
     "output_type": "execute_result"
    }
   ],
   "source": [
    "layer_wise_hidden_states.shape"
   ]
  },
  {
   "cell_type": "code",
   "execution_count": 12,
   "metadata": {},
   "outputs": [
    {
     "data": {
      "text/plain": [
       "(244, 8, 32, 32768)"
      ]
     },
     "execution_count": 12,
     "metadata": {},
     "output_type": "execute_result"
    }
   ],
   "source": [
    "layer_wise_hidden_states.shape"
   ]
  },
  {
   "cell_type": "code",
   "execution_count": 13,
   "metadata": {},
   "outputs": [
    {
     "data": {
      "text/plain": [
       "(244, 8)"
      ]
     },
     "execution_count": 13,
     "metadata": {},
     "output_type": "execute_result"
    }
   ],
   "source": [
    "majority_minority_array.shape"
   ]
  },
  {
   "cell_type": "code",
   "execution_count": 20,
   "metadata": {},
   "outputs": [],
   "source": [
    "sae_idx = 15\n",
    "\n",
    "pos, neg = extract_embeddings_by_class(layer_wise_hidden_states[:,:,sae_idx,:], majority_minority_array)\n",
    "steering_direction = pos.mean(0) - neg.mean(0)\n",
    "\n",
    "steering_direction_path = os.path.join(output_dir, f\"{prompting_strategy}_SAE_steering_direction_{sae_idx}.npy\")\n",
    "np.save(steering_direction_path, steering_direction)"
   ]
  },
  {
   "cell_type": "code",
   "execution_count": 21,
   "metadata": {},
   "outputs": [],
   "source": [
    "import http.client"
   ]
  },
  {
   "cell_type": "code",
   "execution_count": 22,
   "metadata": {},
   "outputs": [
    {
     "data": {
      "text/plain": [
       "array([10.766,  4.145,  3.658,  3.367,  2.941,  2.371,  2.336,  2.19 ,\n",
       "        2.14 ,  1.929], dtype=float16)"
      ]
     },
     "execution_count": 22,
     "metadata": {},
     "output_type": "execute_result"
    }
   ],
   "source": [
    "i = np.argsort(pos.mean(0))[::-1]\n",
    "pos.mean(0)[i[:10]]"
   ]
  },
  {
   "cell_type": "code",
   "execution_count": 23,
   "metadata": {},
   "outputs": [
    {
     "data": {
      "text/plain": [
       "19"
      ]
     },
     "execution_count": 23,
     "metadata": {},
     "output_type": "execute_result"
    }
   ],
   "source": [
    "nonzero_indices = np.nonzero(steering_direction)[0]\n",
    "len(nonzero_indices)"
   ]
  },
  {
   "cell_type": "code",
   "execution_count": 24,
   "metadata": {},
   "outputs": [
    {
     "name": "stdout",
     "output_type": "stream",
     "text": [
      "19507 \t 0.253 \t  programming constructs and functions related to data handling and manipulation\n",
      "7026 \t 0.2305 \t  elements related to blogging and online article engagement\n",
      "6335 \t -0.1934 \t mathematical and scientific concepts related to functions and categories\n",
      "20752 \t 0.168 \t exclamations and punctuations indicating emphasis or a strong emotional response\n",
      "27173 \t -0.142 \t  references to publications and articles\n",
      "11405 \t -0.1221 \t JavaScript coding patterns and structures related to functions and data management\n",
      "1954 \t -0.105 \t  punctuation marks and question marks\n",
      "17036 \t -0.0957 \t  references to correct answers and evaluation processes in assessments\n",
      "29766 \t 0.09375 \t  structures related to code functions and their parameters\n",
      "7028 \t 0.08606 \t  code snippets and elements related to programming syntax\n",
      "20326 \t 0.0713 \t  significant numerical values or statistics\n",
      "3179 \t -0.0547 \t references to discussions or mentions of climate change and its impacts\n",
      "23990 \t 0.02745 \t  terms related to data management and processing in programming contexts\n",
      "15559 \t 0.02539 \t  code snippets related to web development and programming concepts\n",
      "3998 \t -0.02539 \t  technical terms related to data analysis and programming\n",
      "14312 \t 0.01758 \t  programming-related keywords and syntax elements\n",
      "9478 \t -0.01172 \t  references to systems, mechanisms, or structures related to regulatory or operational frameworks\n",
      "11627 \t 0.009766 \t references to cultural phenomena and their impact on society\n",
      "17594 \t 0.009766 \t  programming terms and function signatures related to querying and managing data\n"
     ]
    }
   ],
   "source": [
    "nonzero_indices = np.nonzero(steering_direction)[0]\n",
    "indices = nonzero_indices[np.argsort(np.abs(steering_direction[nonzero_indices]))[::-1]]\n",
    "\n",
    "for idx in indices[:50]:\n",
    "    try:\n",
    "        conn = http.client.HTTPSConnection(\"www.neuronpedia.org\")\n",
    "\n",
    "        conn.request(\"GET\", f\"/api/feature/llama3.1-8b/{sae_idx}-llamascope-res-32k/{idx}\")\n",
    "\n",
    "        res = conn.getresponse()\n",
    "        data = res.read()\n",
    "        output = json.loads(data.decode(\"utf-8\"))\n",
    "        print(idx, '\\t', steering_direction[idx], '\\t', output['explanations'][0]['description'])\n",
    "    except:\n",
    "        print(idx, '\\t', steering_direction[idx])"
   ]
  },
  {
   "cell_type": "code",
   "execution_count": null,
   "metadata": {},
   "outputs": [
    {
     "data": {
      "text/plain": [
       "(array([2.297, 0.   , 0.   , 0.   , 0.   , 2.297, 2.547, 0.   , 2.922,\n",
       "        2.766, 2.531, 2.656, 2.5  , 0.   , 2.234, 2.188, 2.531, 2.688,\n",
       "        2.906, 2.953, 0.   , 3.344, 3.281, 2.438, 2.156, 2.438],\n",
       "       dtype=float16),\n",
       " array([2.125, 0.   , 2.125, 0.   , 2.172, 0.   , 0.   , 2.328, 2.438,\n",
       "        2.203, 2.312, 2.234, 2.422, 2.375, 0.   , 0.   , 0.   , 0.   ,\n",
       "        0.   , 2.328, 2.422, 2.39 , 2.14 , 2.406, 2.766, 2.844, 2.547,\n",
       "        2.766, 2.766, 2.844, 2.719, 2.75 , 2.484, 2.75 , 2.547, 2.781,\n",
       "        2.36 , 2.172, 2.422, 2.156, 2.406, 0.   , 2.39 , 2.234, 2.453,\n",
       "        0.   , 2.344, 0.   , 2.531, 2.797, 2.625, 2.281, 2.578, 2.219,\n",
       "        2.562, 2.89 , 3.016, 2.89 , 2.969, 2.703, 2.39 , 2.625, 2.203,\n",
       "        2.453, 2.281, 2.531, 2.438, 3.094, 3.078, 2.906, 3.203, 2.89 ,\n",
       "        3.234, 2.344, 2.453, 2.297, 2.375, 2.156], dtype=float16))"
      ]
     },
     "execution_count": 80,
     "metadata": {},
     "output_type": "execute_result"
    }
   ],
   "source": [
    "target = 7026\n",
    "neg[:,target], pos[:,target]"
   ]
  },
  {
   "cell_type": "code",
   "execution_count": null,
   "metadata": {},
   "outputs": [],
   "source": [
    "result = pos[:, None, :] - neg[None, :, :]"
   ]
  },
  {
   "cell_type": "code",
   "execution_count": null,
   "metadata": {},
   "outputs": [],
   "source": [
    "flattened = result.reshape(-1, result.shape[-1])  # shape: [78*26, 32768]"
   ]
  },
  {
   "cell_type": "code",
   "execution_count": null,
   "metadata": {},
   "outputs": [
    {
     "name": "stdout",
     "output_type": "stream",
     "text": [
      "3179 0.3125\n",
      "3998 -0.0625\n",
      "6335 -2.9375\n",
      "7026 -0.171875\n",
      "9478 -0.03125\n",
      "11627 0.125\n",
      "14312 -0.1875\n",
      "15559 0.15625\n",
      "17036 0.203125\n",
      "20326 -0.046875\n"
     ]
    }
   ],
   "source": [
    "for Z in flattened:\n",
    "    nonzero_idx = np.nonzero(Z)[0]  # or np.where(Z != 0)[0]\n",
    "    fired = np.stack((nonzero_idx, Z[nonzero_idx]), axis=1)\n",
    "    for k, v in fired:\n",
    "        print(int(k), v)\n",
    "    break"
   ]
  },
  {
   "cell_type": "code",
   "execution_count": null,
   "metadata": {},
   "outputs": [],
   "source": [
    "z = result.mean(0).mean(0)"
   ]
  },
  {
   "cell_type": "code",
   "execution_count": null,
   "metadata": {},
   "outputs": [],
   "source": [
    "fired = []\n",
    "for zidx, zz in enumerate(z):\n",
    "    if zz > 0 or zz < 0:\n",
    "        fired.append([zidx, zz])\n",
    "fired = np.array(fired)"
   ]
  },
  {
   "cell_type": "code",
   "execution_count": null,
   "metadata": {},
   "outputs": [
    {
     "name": "stdout",
     "output_type": "stream",
     "text": [
      "1954 \t -0.1051025390625\n",
      "3179 \t -0.05047607421875\n",
      "3998 \t -0.025665283203125\n",
      "6335 \t -0.1934814453125\n",
      "7026 \t 0.2298583984375\n",
      "7028 \t 0.08599853515625\n",
      "9478 \t -0.01062774658203125\n",
      "11405 \t -0.12127685546875\n",
      "11627 \t 0.01099395751953125\n",
      "14312 \t 0.019195556640625\n",
      "15559 \t 0.0238189697265625\n",
      "17036 \t -0.093994140625\n",
      "17594 \t 0.00978851318359375\n",
      "19507 \t 0.2529296875\n",
      "20326 \t 0.0714111328125\n",
      "20752 \t 0.16796875\n",
      "23990 \t 0.0274505615234375\n",
      "27173 \t -0.14208984375\n",
      "29766 \t 0.09381103515625\n"
     ]
    }
   ],
   "source": [
    "for idx, value in fired:\n",
    "    print(int(idx), \"\\t\", value)"
   ]
  },
  {
   "cell_type": "code",
   "execution_count": null,
   "metadata": {},
   "outputs": [],
   "source": [
    "fired = []\n",
    "for zidx, zz in enumerate(z):\n",
    "    if zz > 0 or zz < 0:\n",
    "        fired.append([zidx, zz])\n",
    "fired = np.array(fired)"
   ]
  },
  {
   "cell_type": "code",
   "execution_count": null,
   "metadata": {},
   "outputs": [
    {
     "data": {
      "text/plain": [
       "(32768,)"
      ]
     },
     "execution_count": 102,
     "metadata": {},
     "output_type": "execute_result"
    }
   ],
   "source": [
    "z.shape"
   ]
  },
  {
   "cell_type": "code",
   "execution_count": null,
   "metadata": {},
   "outputs": [
    {
     "data": {
      "text/plain": [
       "array([ 6.75 ,  6.758,  6.887,  7.83 ,  9.414, 10.1  , 10.63 , 12.65 ],\n",
       "      dtype=float16)"
      ]
     },
     "execution_count": 105,
     "metadata": {},
     "output_type": "execute_result"
    }
   ],
   "source": [
    "zidx = np.argsort(z)\n",
    "z[zidx[32760:]]"
   ]
  },
  {
   "cell_type": "code",
   "execution_count": null,
   "metadata": {},
   "outputs": [],
   "source": []
  }
 ],
 "metadata": {
  "kernelspec": {
   "display_name": "RoLM",
   "language": "python",
   "name": "python3"
  },
  "language_info": {
   "codemirror_mode": {
    "name": "ipython",
    "version": 3
   },
   "file_extension": ".py",
   "mimetype": "text/x-python",
   "name": "python",
   "nbconvert_exporter": "python",
   "pygments_lexer": "ipython3",
   "version": "3.10.16"
  }
 },
 "nbformat": 4,
 "nbformat_minor": 2
}
